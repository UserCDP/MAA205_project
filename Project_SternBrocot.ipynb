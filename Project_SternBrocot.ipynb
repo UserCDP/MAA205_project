{
 "cells": [
  {
   "cell_type": "markdown",
   "metadata": {},
   "source": [
    "<img src='./figures/logo-ecole-polytechnique-ve.jpg' style='position:absolute; top:0; right:0;' width='100px' height='' alt='' />\n",
    "\n",
    "<center>**Bachelor of Ecole Polytechnique**</center>\n",
    "<center>Computational Mathematics, year 2, semester 1</center>\n",
    "<center>Lecturer: Lucas Gerin <a href=\"mailto:lucas.gerin@polytechnique.edu\">(send mail)</a></center>\n",
    "\n",
    "# Final Project: Stern-Brocot tree and the $3n+1$ problem\n"
   ]
  },
  {
   "cell_type": "markdown",
   "metadata": {},
   "source": [
    "<div markdown=1 class=Abstract>\n",
    "\n",
    "<b>Content:</b>\n",
    "* 40% Experimental Mathematics\n",
    "* 30% Recursive programming\n",
    "* 20% Number Theory\n",
    "* 10% Matrices\n",
    "\n",
    "This project is about the Stern-Brocot tree: a nice and profound mathematical object which allows to investigate the approximation of reals by rational numbers. \n",
    "\n",
    "   - The first part is about an experimental approach to this topic.\n",
    "   - In a second part we propose an application to an old conjecture in Number Theory: the $3n+1$ problem."
   ]
  },
  {
   "cell_type": "markdown",
   "metadata": {},
   "source": [
    "## Table of contents\n",
    "\n",
    "- [The Stern-Brocot tree](#SternBrocot)\n",
    "   - [Paths in the Stern-Brocot tree](#Paths)\n",
    "   - [Approximations of reals with rationals](#Approx)\n",
    "- [Application: The $3n+1$ problem](#3nPlus1)\n",
    "   - [Farey intervals and size of cycles](#Farey)\n"
   ]
  },
  {
   "cell_type": "code",
   "execution_count": 1,
   "metadata": {},
   "outputs": [
    {
     "data": {
      "text/html": [
       "<link href='http://fonts.googleapis.com/css?family=Fenix' rel='stylesheet' type='text/css'>\n",
       "<link href='http://fonts.googleapis.com/css?family=Alegreya+Sans:100,300,400,500,700,800,900,100italic,300italic,400italic,500italic,700italic,800italic,900italic' rel='stylesheet' type='text/css'>\n",
       "<link href='http://fonts.googleapis.com/css?family=Source+Code+Pro:300,400' rel='stylesheet' type='text/css'>\n",
       "<link href=\"https://fonts.googleapis.com/css?family=Oswald|Raleway\" rel=\"stylesheet\" type='text/css'> \n",
       "<style>\n",
       ".prompt{\n",
       "    display: none !important;\n",
       "}\n",
       "\n",
       ".rendered_html pre {\n",
       "    border: 1px solid #f0f6f9 !important;\n",
       "}\n",
       "\n",
       ".rendered_html pre, .rendered_html code {\n",
       "    background-color: #d3d8db !important;\n",
       "    padding: 1% !important;\n",
       "    line-height: 200% !important;\n",
       "    border-radius: 10px !important;\n",
       "}\n",
       "\n",
       "div.input_area {\n",
       "    border-radius: 10px !important;\n",
       "    background-color: #e1e1e6 !important;\n",
       "}\n",
       "\n",
       "div.cell{\n",
       "        width:85% !important;\n",
       "        margin-left:5% !important;\n",
       "        /*margin-right:auto;*/\n",
       "    }\n",
       "    h1, h2, h3, h4, h5 {\n",
       "        font-family: 'Oswald', sans-serif; !important;\n",
       "        font-style: oblique !important;\n",
       "    }\n",
       "    div.text_cell_render{\n",
       "        font-family: 'Raleway', sans-serif; !important;\n",
       "        line-height: 135% !important;\n",
       "        font-size: 120% !important;\n",
       "        width:100%;/*600px;*/\n",
       "        /*margin-left:auto;*/\n",
       "        /*margin-right:auto;*/\n",
       "    }\n",
       "    .CodeMirror{\n",
       "            font-family: \"Source Code Pro\" !important;\n",
       "\t\t\tfont-size: 100% !important;\n",
       "    }\n",
       "    .text_cell_render p{\n",
       "        text-align: justify !important;\n",
       "    }\n",
       "    .text_cell_render h1 {\n",
       "        font-weight: 200 !important;\n",
       "\t\tline-height: 100% !important;\n",
       "        color:#47597A !important;\n",
       "        margin-bottom: 10.em !important;\n",
       "        margin-top: 50.em !important;\n",
       "        padding-bottom: 50.em !important;\n",
       "        padding-top: 50.em !important;\n",
       "        display: block !important;\n",
       "        font-size: 300% !important;\n",
       "        text-align: center !important;\n",
       "        border-bottom: 1px solid #47597A !important;\n",
       "        border-top: 1px solid #47597A !important;\n",
       "    }\n",
       "    .text_cell_render h2 {\n",
       "        font-weight: 200 !important;\n",
       "\tline-height: 100% !important;\n",
       "        color:#47597A !important;\n",
       "        margin-bottom: 0.5em !important;\n",
       "        margin-top: 0.5em !important;\n",
       "        display: block !important;\n",
       "        font-size: 200% !important;\n",
       "        border-bottom: 1px solid #47597A !important;\n",
       "    }\n",
       "    .text_cell_render h3 {\n",
       "        font-weight: 200 !important;\n",
       "\tline-height: 100% !important;\n",
       "        color:#47597A !important;\n",
       "        margin-bottom: 0.5em !important;\n",
       "        margin-top: 0.5em !important;\n",
       "        display: block !important;\n",
       "        font-size: 150% !important;\n",
       "    }\n",
       "    .text_cell_render h4 {\n",
       "        font-style: italic !important;\n",
       "        font-weight: bold !important;\n",
       "\tline-height: 100% !important;\n",
       "        color:#47597A !important;\n",
       "        display: block !important;\n",
       "        font-size: 100% !important;\n",
       "    }\n",
       "    .text_cell_render h5 {\n",
       "        font-weight: 200 !important;\n",
       "\tline-height: 100% !important;\n",
       "        color:#47597A !important;\n",
       "        margin-bottom: 0.5em !important;\n",
       "        margin-top: 0.5em !important;\n",
       "        display: block !important;\n",
       "        font-size: 100% !important;\n",
       "    }\n",
       "    .text_cell_render ul {\n",
       "\tlist-style-type: disc !important;\n",
       "\tline-height: 2;\n",
       "\t/*color:#47597A !important;*/\n",
       "    }\n",
       "    .warning{\n",
       "        color: rgb( 240, 20, 20 ) !important;\n",
       "        }\n",
       "    .Abstract {  \n",
       "\ttext-align: justify;\n",
       "\tbackground-color: #d6edf9;\n",
       "\tborder-left: 5px solid #47597A;\n",
       "\tpadding: 0.5em;\n",
       "\tmargin: 0  150px 0 150px;\n",
       "    }\n",
       "    .Def {    \n",
       "\tbackground-color: #d9f7d7;\n",
       "\tborder-left: 5px solid #4a7047;\n",
       "\tpadding: 0.5em;\n",
       "    }\n",
       "    .Def:before {\n",
       "\tcontent: \"Definition.\";\n",
       "\tcolor:#4a7047;\n",
       "\tfont-weight: bold;\n",
       "\tfont-style: normal;\n",
       "    }\n",
       "    .DoIt {    \n",
       "\tbackground-color: #A9F5BC;\n",
       "\tborder-left: 5px solid #0A2A12;\n",
       "\tpadding: 0.5em;\n",
       "    }\n",
       "    .DoIt:before {\n",
       "\tcontent: \"Suggestion.\";\n",
       "\tcolor:#0A2A12;\n",
       "\tfont-weight: bold;\n",
       "\tfont-style: normal;\n",
       "    }\n",
       "    .Answers {    \n",
       "\tbackground-color: #DDA0DD;\n",
       "\tborder-left: 5px solid #9932CC;\n",
       "\tpadding: 0.5em;\n",
       "    }\n",
       "    .Answers:before {\n",
       "\tcontent: \"Answers.\";\n",
       "\tcolor:#682145;\n",
       "\tfont-weight: bold;\n",
       "\tfont-style: normal;\n",
       "    }\n",
       "    .Prop {    \n",
       "\tbackground-color:#f9ecd1;\n",
       "\tborder-left: 5px solid #ba7021;\n",
       "\tpadding: 0.5em;\n",
       "    }\n",
       "   .Prop:before {\n",
       "       content: \"Further questions.\";\n",
       "       color:#ba7021;\n",
       "       font-weight: bold;\n",
       "       font-style: normal;\n",
       "    }\n",
       "   .Thm {    \n",
       "\tbackground-color:#f9ecd1;\n",
       "\tborder-left: 5px solid #ba7021;\n",
       "\tpadding: 0.5em;\n",
       "    }\n",
       "   .Thm:before {\n",
       "       content: \"Theorem.\";\n",
       "       color:#ba7021;\n",
       "       font-weight: bold;\n",
       "       font-style: normal;\n",
       "    } \n",
       "   .Algo {    \n",
       "\tbackground-color:#f9ecd1;\n",
       "\tborder-left: 5px solid #ba7021;\n",
       "\tpadding: 0.5em;\n",
       "    }\n",
       "   .Algo:before {\n",
       "       content: \"Algorithm.\";\n",
       "       color:#ba7021;\n",
       "       font-weight: bold;\n",
       "       font-style: normal;\n",
       "    }\n",
       "    .Rmk {    \n",
       "\tbackground-color: #dbf1fc;\n",
       "\tborder-left: 5px solid #385487;\n",
       "\tpadding: 0.5em;\n",
       "    }\n",
       "    .Rmk:before {\n",
       "\tcontent: \"Remark.\";\n",
       "\tcolor:#385487;\n",
       "\tfont-weight: bold;\n",
       "\tfont-style: normal;\n",
       "    }\n",
       "    .Ex {    \n",
       "\tbackground-color: #dbf1fc;\n",
       "\tborder-left: 5px solid #385487;\n",
       "\tpadding: 0.5em;\n",
       "    }\n",
       "    .Ex:before {\n",
       "\tcontent: \"Example.\";\n",
       "\tcolor:#385487;\n",
       "\tfont-weight: bold;\n",
       "\tfont-style: normal;\n",
       "    }\n",
       "\n",
       "/*    .toc-item-num {\n",
       "#        display: none;\n",
       "#    }\n",
       "*/\n",
       "    .reveal section img{\n",
       "        margin: 0px auto;\n",
       "    }\n",
       "\n",
       "    div.output_area img{\n",
       "        display: block;\n",
       "        margin: 0px auto;\n",
       "    }\n",
       "  \n",
       "</style>\n",
       "\n",
       "<script>\n",
       "MathJax.Hub.Config({\n",
       "TeX: {extensions: [\"AMSmath.js\"] },\n",
       "                tex2jax: {\n",
       "                    inlineMath: [ ['$','$'], [\"\\\\(\",\"\\\\)\"] ],\n",
       "                    displayMath: [ ['$$','$$'], [\"\\\\[\",\"\\\\]\"] ]\n",
       "                },\n",
       "                displayAlign: 'center', // Change this to 'center' to center equations.\n",
       "                \"HTML-CSS\": {\n",
       "                    styles: {'.MathJax_Display': {\"margin\": 4}}\n",
       "                }\n",
       "        });\n",
       "\n",
       "\n",
       "\n",
       "</script>\n"
      ],
      "text/plain": [
       "<IPython.core.display.HTML object>"
      ]
     },
     "execution_count": 1,
     "metadata": {},
     "output_type": "execute_result"
    }
   ],
   "source": [
    "# execute this part to modify the css style\n",
    "from IPython.core.display import HTML\n",
    "def css_styling():\n",
    "    styles = open(\"./style/customProject.css\").read()\n",
    "    return HTML(styles)\n",
    "css_styling()"
   ]
  },
  {
   "cell_type": "code",
   "execution_count": 2,
   "metadata": {},
   "outputs": [],
   "source": [
    "## loading python libraries\n",
    "\n",
    "# necessary to display plots inline:\n",
    "%matplotlib inline   \n",
    "\n",
    "# load the libraries\n",
    "import matplotlib.pyplot as plt # 2D plotting library\n",
    "import numpy as np              # package for scientific computing  \n",
    "\n",
    "from math import *              # package for mathematics (pi, arctan, sqrt, factorial ...)\n",
    "import sympy as sympy           # package for symbolic computation\n"
   ]
  },
  {
   "cell_type": "markdown",
   "metadata": {},
   "source": [
    "Here are two cells that you can copy/paste throughout the Notebook:"
   ]
  },
  {
   "cell_type": "markdown",
   "metadata": {},
   "source": [
    "<div markdown=1 class=\"Answers\"> \n",
    "<i>Your maths answers.</i>"
   ]
  },
  {
   "cell_type": "markdown",
   "metadata": {},
   "source": [
    "<div markdown=1 class=\"Prop\"> \n",
    "<i>In this cell you can add your own additional questions (math or python).</i>"
   ]
  },
  {
   "cell_type": "markdown",
   "metadata": {},
   "source": [
    "<a id='SternBrocot'></a>\n",
    "# The Stern-Brocot tree\n",
    "\n",
    "### Preliminaries\n",
    "\n",
    "The Stern-Brocot construction allows to build all the rational numbers $m/n \\in [0,+\\infty]$ such that $m,n$ are coprime. The idea is to start with the sequence $S_0=(\\tfrac{0}{1},\\tfrac{1}{0})$ (we consider $1/0$ as the rational notation for $+\\infty$) and then to repeat the following procedure:\n",
    "<center>\n",
    "    To define $S_{t+1}$ insert $\\frac{m+m'}{n+n'}$ between each consecutive $\\frac{m}{n}$ and $\\frac{m'}{n'}$ in $S_t$.\n",
    "</center>\n",
    "The fraction $\\frac{m+m'}{n+n'}$ is called the <i>mediant</i> of  $\\frac{m}{n}$ and $\\frac{m'}{n'}$.\n",
    "After one step we obtain:\n",
    "$$\n",
    "S_1=(\\tfrac{0}{1},\\tfrac{1}{1},\\tfrac{1}{0})\n",
    "$$\n",
    "then\n",
    "$$\n",
    "S_2=(\\tfrac{0}{1},\\tfrac{1}{2},\\tfrac{1}{1},\\tfrac{2}{1},\\tfrac{1}{0})\n",
    "$$\n",
    "and\n",
    "$$\n",
    "S_3=(\\tfrac{0}{1},\\tfrac{1}{3},\\tfrac{1}{2},\\tfrac{2}{3},\\tfrac{1}{1},\\tfrac{3}{2},\\tfrac{2}{1},\\tfrac{3}{1},\\tfrac{1}{0}),\n",
    "$$\n",
    "and so on. \n",
    "As we will see every nonnegative rational can be obtained with the Stern-Brocot construction:\n",
    "$$\n",
    "\\bigcup_t S_t = \\mathbb{Q}_{\\geq 0} \\cup \\{1/0\\}.\n",
    "$$"
   ]
  },
  {
   "cell_type": "markdown",
   "metadata": {},
   "source": [
    "<div markdown=1 class=\"DoIt\"> \n",
    "\n",
    "Write a function which returns the set $S_t$. You can represent the rational $p/q$ as the pair  `[p,q]`  and sets $S_t$ as a list of pairs:\n",
    "\n",
    "```\n",
    "Stern-Brocot set S_3: \n",
    "[[0, 1], [1, 3], [1, 2], [2, 3], [1, 1], [3, 2], [2, 1], [3, 1], [1, 0]]\n",
    "```"
   ]
  },
  {
   "cell_type": "code",
   "execution_count": 3,
   "metadata": {},
   "outputs": [
    {
     "name": "stdout",
     "output_type": "stream",
     "text": [
      "[[0, 1], [1, 3], [1, 2], [2, 3], [1, 1], [3, 2], [2, 1], [3, 1], [1, 0]]\n"
     ]
    }
   ],
   "source": [
    "def S_t(t):\n",
    "    S = {\n",
    "        0: [[0, 1], [1, 0]] # S_0\n",
    "    }\n",
    "    for i in range(1, t+1):\n",
    "        S[i] = []\n",
    "        for j in range(len(S[i-1])-1):\n",
    "#             print(S[i-1])\n",
    "            S[i] += [S[i-1][j]]\n",
    "            numerator = S[i-1][j][0]+S[i-1][j+1][0]\n",
    "            denominator = S[i-1][j][1]+S[i-1][j+1][1]\n",
    "            S[i] += [[numerator, denominator]]\n",
    "#         print(S[i-1])\n",
    "        S[i] += [S[i-1][-1]]\n",
    "#         print(S)\n",
    "    return S[t]\n",
    "\n",
    "print(S_t(3))"
   ]
  },
  {
   "cell_type": "markdown",
   "metadata": {},
   "source": [
    "This is also convenient to draw the sets $S_t$ in an infinite binary tree $\\mathcal{T}$ :\n",
    "<img src='figures/SternTree.jpg' width=70%>\n",
    "We can recover each $S_t$ from $\\mathcal{T}$ if we take all the elements of the tree at levels $1,2,\\dots,t$ and read them from left to right. (Then we add $0/1$ and $1/0$ at the beginning and at the end of the sequence.)"
   ]
  },
  {
   "cell_type": "markdown",
   "metadata": {},
   "source": [
    "<div markdown=1 class=\"Rmk\"> The Stern-Broccot tree has the following properties (which we admit):\n",
    "\n",
    "* All the fractions in $\\mathcal{T}$ are irreducible.\n",
    "* Every positive fraction appears exactly once in $\\mathcal{T}$.\n"
   ]
  },
  {
   "cell_type": "markdown",
   "metadata": {},
   "source": [
    "<a id='Paths'></a>\n",
    "## Paths in the Stern-Brocot tree\n",
    "In order to move inside the tree we will define two operators $\\texttt{L}/\\texttt{R}$ (Left/Right). Each string $\\texttt{S}$ of letters $\\texttt{L}/\\texttt{R}$ will define a node in $\\mathcal{T}$ as follows:\n",
    "* The empty string $\\emptyset$ corresponds to $1/1$ (which is the root of the tree) ;\n",
    "* $\\texttt{SL}$ is the left child of the node corresponding to $\\texttt{S}$ ;\n",
    "* $\\texttt{SR}$ is the right child of the node corresponding to $\\texttt{S}$.\n",
    "\n",
    "For example we can move to $3/4$ through the path $\\emptyset = 1/1 \\stackrel{\\text{Left}}{\\to} 1/2 \\stackrel{\\text{Right}}{\\to} 2/3 \\stackrel{\\text{Right}}{\\to} 3/4$.\n",
    "\n",
    "Therefore we identify the rational number $3/4$ and the corresponding string $\\texttt{LRR}$."
   ]
  },
  {
   "cell_type": "markdown",
   "metadata": {},
   "source": [
    "### Representation with matrix products\n",
    "\n",
    "To each string $\\texttt{S}$ (or equivalently to the rational $m/n$ corresponding to $\\texttt{S}$ ) we associate the $2\\times 2$ matrix \n",
    "$$\n",
    "\\mathcal{M}(\\texttt{S}):=\n",
    "\\begin{pmatrix}\n",
    "b & b' \\\\\n",
    "a & a'\\\\\n",
    "\\end{pmatrix}\n",
    "$$\n",
    "where $a/b$ and $a'/b'$ are the closest fractions preceding and following  $m/n$ among all the nodes from the upper levels of the tree. By construction of the sets $(S_t)$, $m/n$ was obtained as the mediant of $a/b$ and $a'/b'$:\n",
    "$$\n",
    "\\frac{m}{n}=\\frac{a+a'}{b+b'}.\n",
    "$$\n",
    "\n",
    "For example, consider $m/n=3/5$ which is at level $4$ (or equivalently the string $\\texttt{LRL}$). Then the closest fractions above $3/5$ among levels $0,1,2,3$ are $1/2$ and $2/3$. Therefore\n",
    "$$\n",
    "\\mathcal{M}(3/5)=\n",
    "\\begin{pmatrix}\n",
    "2 & 3 \\\\\n",
    "1 & 2\\\\\n",
    "\\end{pmatrix}.\n",
    "$$\n",
    "\n",
    "\n",
    "A look at the above picture shows for example:\n",
    "$$\n",
    "\\mathcal{M}(\\emptyset )=\n",
    "\\begin{pmatrix}\n",
    "1 & 0 \\\\\n",
    "0 & 1\\\\\n",
    "\\end{pmatrix}\n",
    ",\n",
    "\\qquad\n",
    "\\mathcal{M}(LRR)=\n",
    "\\begin{pmatrix}\n",
    "3 & 1 \\\\\n",
    "2 & 1\\\\\n",
    "\\end{pmatrix}\n",
    "$$"
   ]
  },
  {
   "cell_type": "markdown",
   "metadata": {},
   "source": [
    "<div markdown=1 class=\"DoIt\"> \n",
    "\n",
    "1. <b>(Theory)</b> Find a $2\\times 2$ matrix $\\mathcal{L}$ (resp.  $\\mathcal{R}$) such that going left (resp.  right) in the tree amounts to multiplying by $\\mathcal{L}$ (resp.  $\\mathcal{R}$):\n",
    "$$\n",
    "\\mathcal{M}(\\texttt{SL})=\\mathcal{M}(\\texttt{S})\\mathcal{L}, \\qquad \\mathcal{M}(\\texttt{SR})=\\mathcal{M}(\\texttt{S})\\mathcal{R}.\n",
    "$$\n",
    "2. Deduce a function python which computes $\\mathcal{M}(\\texttt{S})$ for every string, and the corresponding fraction."
   ]
  },
  {
   "cell_type": "markdown",
   "metadata": {},
   "source": [
    "<div markdown=1 class=\"Answers\"> \n",
    "1.\n",
    "Let us take $\\mathcal{M}(S) = \\begin{pmatrix} b & b'' \\\\ a & a'' \\end{pmatrix}$ where $a'=a+a''$ and $b'=b+b''$.\n",
    "We also take $\\mathcal{M}(SL) = \\begin{pmatrix}b & b' \\\\ a & a'\\end{pmatrix}$.\n",
    "\n",
    "We calculate the inverse of $\\mathcal{M}(s)$ and using the equation $\\mathcal{M}(S)^{-1}\\mathcal{M}(SL) = \\mathcal{L}$ we get\n",
    "$$\\mathcal{L} = \\begin{pmatrix}1 & 1 \\\\ 0 & 1\\end{pmatrix}$$\n",
    "\n",
    "We use the same process with $\\mathcal{M}(SR)=\\begin{pmatrix}b' & b'' \\\\ a' & a''\\end{pmatrix}$ to find $$\\mathcal{R}=\\begin{pmatrix} 1 & 0 \\\\ 1 & 1\\end{pmatrix}$$"
   ]
  },
  {
   "cell_type": "code",
   "execution_count": 4,
   "metadata": {},
   "outputs": [
    {
     "name": "stdout",
     "output_type": "stream",
     "text": [
      "[[3 1]\n",
      " [2 1]]\n"
     ]
    }
   ],
   "source": [
    "L = np.matrix(\"1 1; 0 1\")\n",
    "R = np.matrix(\"1 0; 1 1\")\n",
    "def M_S(s):\n",
    "    mat = np.matrix(\"1 0; 0 1\")\n",
    "    for letter in s:\n",
    "        if letter == 'L':\n",
    "            mat = np.matmul(mat, L)\n",
    "        elif letter == 'R':\n",
    "            mat = np.matmul(mat, R)\n",
    "    return mat\n",
    "            \n",
    "print(M_S(\"LRR\"))"
   ]
  },
  {
   "cell_type": "markdown",
   "metadata": {},
   "source": [
    "<div markdown=1 class=\"DoIt\"> With experiments or theory, find the real numbers associated to the following patterns:\n",
    "\n",
    "* $\\texttt{LRLRLRLRLR}...$\n",
    "* $\\texttt{LLRRLLRR}...$\n"
   ]
  },
  {
   "cell_type": "code",
   "execution_count": 41,
   "metadata": {},
   "outputs": [
    {
     "data": {
      "image/png": "[encoded data removed]",
      "text/plain": [
       "<Figure size 640x480 with 1 Axes>"
      ]
     },
     "metadata": {},
     "output_type": "display_data"
    },
    {
     "data": {
      "image/png": "[encoded data removed]",
      "text/plain": [
       "<Figure size 640x480 with 1 Axes>"
      ]
     },
     "metadata": {},
     "output_type": "display_data"
    }
   ],
   "source": [
    "LR_sequence = []\n",
    "N = 46\n",
    "for i in range(N):\n",
    "    temp = M_S(\"LR\"*i)\n",
    "    LR_sequence.append((temp[1, 0]+temp[1,1])/(temp[0, 0]+temp[0, 1]))\n",
    "\n",
    "n = np.arange(1, N)\n",
    "# plt.yxcale('log')\n",
    "plt.plot(n, LR_sequence[1:], marker='o') # remove the first element so the graph is more clear\n",
    "plt.show()\n",
    "# LR_sequence\n",
    "\n",
    "LLRR_seq = []\n",
    "N = 25\n",
    "for i in range(N):\n",
    "    temp = M_S(\"LLRR\"*i)\n",
    "    LLRR_seq.append((temp[1, 0]+temp[1,1])/(temp[0, 0]+temp[0, 1]))\n",
    "\n",
    "n = np.arange(1, N)\n",
    "plt.plot(n, LLRR_seq[1:], marker='o')\n",
    "plt.show()\n",
    "# LLRR_seq"
   ]
  },
  {
   "cell_type": "markdown",
   "metadata": {},
   "source": [
    "<div markdown=1 class=\"Answers\"> \n",
    "From the igures and the calculations we can observe that $LRLRLR...$ tends to $0.6$ and $LLRRLLRR...$ tends to $0.4$."
   ]
  },
  {
   "cell_type": "markdown",
   "metadata": {},
   "source": [
    "<div markdown=1 class=\"Prop\">\n",
    "Can you find a recursive formula for the matrix of the sequence?"
   ]
  },
  {
   "cell_type": "markdown",
   "metadata": {},
   "source": [
    "<div markdown=1 class=\"Answers\">\n",
    "The first sequence can be written as $I_n LRLR...$. From the fact that $I_n$ is the neutral element for matrix multiplication and the associativity of matrices, we can rewrite it as $$(LR)(LR)(LR)...=(LR)^n$$\n",
    "\n",
    "$$LR=\\begin{pmatrix}2 & 1 \\\\ 1 & 1\\end{pmatrix}$$\n",
    "\n",
    "So the sequence is $(LR)^n=\\begin{pmatrix}2 & 1 \\\\ 1 & 1\\end{pmatrix}^n$\n",
    "Let us show by induction the formula $(LR)^n=\n",
    "\\begin{pmatrix}\n",
    "\\text{sum of all elements of } (LR)^{n-1} & \\text{sum of the top row of } (LR)^{n-1} \\\\ \n",
    "\\text{sum of the top row of } (LR)^{n-1} & \\text{the first element of } (LR)^{n-1}\\end{pmatrix}$. We checked by calculations that the case with $n=1$ is true.\n",
    "\n",
    "Let us now assume that the equation stands for some $n\\in \\mathbb{N}$. Using this equation let us prove that it holds for $n+1$.\n",
    "\n",
    "Take $(LR)^n=\\begin{pmatrix} a & b \\\\ b & c\\end{pmatrix}$, where we can observe from the computed results that $b+d=a$\n",
    "\n",
    "We have $(LR)^{n+1}=\\begin{pmatrix} a & b \\\\ b & c\\end{pmatrix}\\begin{pmatrix}2 & 1 \\\\ 1 & 1\\end{pmatrix}=\\begin{pmatrix} 2a+b & a+b \\\\ 2b+d & b+d\\end{pmatrix}=\\begin{pmatrix} a+b+b+d & a+b \\\\ a+b & b+d\\end{pmatrix}$\n",
    "\n",
    "Which proves our assumption."
   ]
  },
  {
   "cell_type": "markdown",
   "metadata": {},
   "source": [
    "### String associated to a rational number\n",
    "\n",
    "\n",
    "Here is an algorithm which returns the string associated to a fraction $x$ (below we identify a string $\\texttt{S}$ and the corresponding fraction): \n",
    "\n",
    "<b>Algorithm</b><br>\n",
    "<b>inputs:</b> $x$: positive rational number. .<br>\n",
    "<b>Output:</b> String $\\texttt{S}$ associated to $x$.<br>\n",
    "\n",
    "$\\texttt{S}\\leftarrow \\emptyset$.\n",
    "\n",
    "<b>while</b> $\\texttt{S}\\neq x$:\n",
    "   - <b>if</b> $\\texttt{S}>x$:\n",
    "      * we go left: $\\texttt{S}\\leftarrow \\texttt{SL}$\n",
    "   - <b>else</b>:\n",
    "      * we go right: $\\texttt{S}\\leftarrow \\texttt{SR}$\n",
    "   \n",
    "Return $\\texttt{S}$."
   ]
  },
  {
   "cell_type": "markdown",
   "metadata": {},
   "source": [
    "<div markdown=1 class=\"DoIt\"> Write a function python which returns the string associated to any positive rational number.\n"
   ]
  },
  {
   "cell_type": "markdown",
   "metadata": {},
   "source": [
    "<div markdown=1 class=\"Answers\"> "
   ]
  },
  {
   "cell_type": "code",
   "execution_count": 7,
   "metadata": {},
   "outputs": [
    {
     "data": {
      "text/plain": [
       "'LLRL'"
      ]
     },
     "execution_count": 7,
     "metadata": {},
     "output_type": "execute_result"
    }
   ],
   "source": [
    "S = \"\"\n",
    "def assoc_str(x, S=\"\"):\n",
    "    temp = M_S(S)\n",
    "    val = (temp[1, 0]+temp[1,1])/(temp[0, 0]+temp[0, 1])\n",
    "    if val == x:\n",
    "        return S\n",
    "    elif val > x:\n",
    "        return assoc_str(x, S+'L')\n",
    "    else:\n",
    "        return assoc_str(x, S+'R')\n",
    "\n",
    "assoc_str(3/4)\n",
    "assoc_str(1/5)\n",
    "assoc_str(2/5)\n",
    "assoc_str(3/8)"
   ]
  },
  {
   "cell_type": "markdown",
   "metadata": {},
   "source": [
    "<a id='Approx'></a>\n",
    "\n",
    "## Approximations of irrationals: infinite paths\n",
    "Irrational numbers ($\\pi,e,\\sqrt{2}$,...) do not appear in the Stern-Broccot tree but correspond in fact to infinite paths in the tree. This path allows to find good rational approximations of irrational numbers.\n",
    "\n",
    "Here is a formal construction:\n",
    "\n",
    "<b>Algorithm</b><br>\n",
    "<b>inputs:</b> $x$: positive irrational number. $N$: non-negative integer.<br>\n",
    "<b>Output:</b> String $\\texttt{S}$ of length $N$. $\\texttt{S}$ is the rational of level $N$ which is the closest to $x$.<br>\n",
    "\n",
    "$n\\leftarrow 0$<br>\n",
    "$\\texttt{S}\\leftarrow \\emptyset$.\n",
    "\n",
    "<b>while</b> $n < N$:\n",
    "   - <b>if</b> $\\texttt{S}>x$:\n",
    "      * we go left: $\\texttt{S}\\leftarrow \\texttt{SL}$\n",
    "   - <b>else</b>:\n",
    "      * we go right: $\\texttt{S}\\leftarrow \\texttt{SR}$\n",
    "   - $n\\leftarrow n+1$\n",
    "   \n",
    "Return $\\texttt{S}$."
   ]
  },
  {
   "cell_type": "markdown",
   "metadata": {},
   "source": [
    "<div markdown=1 class=\"DoIt\">  \n",
    "\n",
    "1. Compute the beginning of the expansion in $\\texttt{L}$'s and $\\texttt{R}$'s of $\\pi$ and $e$. \n",
    "2. Can you find the pattern in the expansion of $\\sqrt{2}$? of $e$ (less easy to see)?\n",
    "3. Use your code to obtain good rational approximations of $\\pi$. You should find something like:\n",
    "\n",
    "<table>\n",
    "            <tr>\n",
    "                <td width=\"100\"> Level</td>\n",
    "                <td > m/n</td>\n",
    "                <td> numerical value</td>\n",
    "            </tr>\n",
    "            <tr>\n",
    "                <td width=\"100\"> 1</td>\n",
    "                <td > 1/1</td>\n",
    "                <td> 1.0</td>\n",
    "            </tr>\n",
    "            <tr>\n",
    "                <td width=\"100\"> 2</td>\n",
    "                <td > 2/1</td>\n",
    "                <td> 2.0</td>\n",
    "            </tr>\n",
    "            <tr>\n",
    "                <td width=\"100\"> 3</td>\n",
    "                <td > 3/1</td>\n",
    "                <td> 3.0</td>\n",
    "            </tr>\n",
    "            <tr>\n",
    "                <td width=\"100\"> ...</td>\n",
    "                <td > ... </td>\n",
    "                <td> ... </td>\n",
    "            </tr>\n",
    "            <tr>\n",
    "                <td width=\"100\"> 14</td> \n",
    "                <td > 91 / 29</td>\n",
    "                <td> 3.13793103...</td>\n",
    "            </tr>\n",
    "\n",
    "</table>"
   ]
  },
  {
   "cell_type": "code",
   "execution_count": 16,
   "metadata": {},
   "outputs": [
    {
     "name": "stdout",
     "output_type": "stream",
     "text": [
      "----------1----------\n",
      "The expansion in the first 20 characters of pi:  RRRLLLLLLLRRRRRRRRR\n",
      "The expansion in the first 20 characters of e:  RRLRRLRLLLLRLRRRRRR\n",
      "----------2----------\n",
      "The first 20 characters of the expansion of sqrt(2): RLLRRLLRRLLRRLLRRLL\n",
      "The expansion in the first 100 characters of e:  RRLRRLRLLLLRLRRRRRRLRLLLLLLLLRLRRRRRRRRRRLRLLLLLLLLLLLLRLRRRRRRRRRRRRRRRRLRRLLLLLLLLLRLLLLLLLLRLLLR\n",
      "----------2----------\n",
      "Level 1  value  1.0\n",
      "Level 2  value  2.0\n",
      "Level 3  value  3.0\n",
      "Level 4  value  4.0\n",
      "Level 5  value  3.5\n",
      "Level 6  value  3.3333333333333335\n",
      "Level 7  value  3.25\n",
      "Level 8  value  3.2\n",
      "Level 9  value  3.1666666666666665\n",
      "Level 10  value  3.142857142857143\n",
      "Level 11  value  3.125\n",
      "Level 12  value  3.1333333333333333\n",
      "Level 13  value  3.1363636363636362\n",
      "Level 14  value  3.1379310344827585\n"
     ]
    }
   ],
   "source": [
    "S = \"\"\n",
    "def assoc_str(x, N):\n",
    "    S = \"\"\n",
    "    n = 1\n",
    "    while n < N:\n",
    "        temp = M_S(S)\n",
    "        val = (temp[1, 0]+temp[1,1])/(temp[0, 0]+temp[0, 1])\n",
    "        if val > x:\n",
    "            S += 'L'\n",
    "        else:\n",
    "            S += 'R'\n",
    "        n += 1\n",
    "    return S\n",
    "\n",
    "print('----------1----------')\n",
    "print('The expansion in the first 20 characters of pi: ', assoc_str(pi, 20))\n",
    "print('The expansion in the first 20 characters of e: ', assoc_str(e, 20))\n",
    "\n",
    "print('----------2----------')\n",
    "print('The first 20 characters of the expansion of sqrt(2):', assoc_str(sqrt(2), 20))\n",
    "print('The expansion in the first 100 characters of e: ', assoc_str(e, 100))\n",
    "\n",
    "print('----------2----------')\n",
    "for i in range(1, 15):\n",
    "    temp = M_S(assoc_str(pi, i))\n",
    "    print('Level', i, ' value ', (temp[1, 0]+temp[1,1])/(temp[0, 0]+temp[0, 1]))"
   ]
  },
  {
   "cell_type": "markdown",
   "metadata": {},
   "source": [
    "<div markdown=1 class=\"Answers\"> \n",
    "    \n",
    "1. $\\pi\\equiv$ RRRLLLLLLLRRRRRRRRRR...\n",
    "    \n",
    "$e\\equiv$ RRLRRLRLLLLRLRRRRRRL...\n",
    "\n",
    "2. The pattern of $\\sqrt{2}$ is two of each character, alternating, starting with one $\\texttt{R}$ and continuing with $\\texttt{L}$ and so on."
   ]
  },
  {
   "cell_type": "code",
   "execution_count": null,
   "metadata": {},
   "outputs": [],
   "source": []
  },
  {
   "cell_type": "markdown",
   "metadata": {},
   "source": [
    "## Efficiency of coding reals with $\\texttt{L,R}$'s\n",
    "\n",
    "With $n$ binary symbols $0/1$ one can approximate a real number $x\\in (0,1)$ in base $2$ with a precision $2^{-n}$. For example for $n=6$:\n",
    "$$\n",
    "\\pi -3 \\approx .001001_{2}\n",
    "$$\n"
   ]
  },
  {
   "cell_type": "markdown",
   "metadata": {},
   "source": [
    "<div markdown=1 class=\"DoIt\">  For larger and larger values of $n$, compare the precision of the approximations of a given $x$ with $n$ symbols in the binary expansion of $x$ and that given with $n$ symbols in the $\\texttt{L,R}$ expansion.\n"
   ]
  },
  {
   "cell_type": "code",
   "execution_count": null,
   "metadata": {},
   "outputs": [],
   "source": []
  },
  {
   "cell_type": "markdown",
   "metadata": {},
   "source": [
    "<a id='3nPlus1'></a>\n",
    "# Application: The $3n+1$ problem\n",
    "\n",
    "The $3n+1$ problem is a famous unsolved problem in Number Theory. Interestingly the Stern-Broccot construction provides an important progress towards the resolution of the conjecture.\n",
    "\n",
    "### Statement of the problem\n",
    "Let $C: \\mathbb{N}\\to \\mathbb{N}$ be the function defined by\n",
    "$$\n",
    "C(x)=\n",
    "\\begin{cases}\n",
    "x/2 &\\text{ if $x$ is odd},\\\\\n",
    "3x+1 &\\text{ if $x$ is even}\n",
    "\\end{cases}.\n",
    "$$\n",
    "For any positive integer $a$ we consider the sequence\n",
    "$$\n",
    "u_n:\n",
    "\\begin{cases}\n",
    "u_0&= a ,\\\\\n",
    "u_{n+1}&=C(u_n)\\qquad \\text{ for every }\\geq 0. \n",
    "\\end{cases}.\n",
    "$$\n",
    "For example if $a=7$ one obtains\n",
    "$$\n",
    "10 \\to 5 \\to 16 \\to 8 \\to 4 \\to 2 \\to 1 \\to 4 \\to 2 \\to 1 \\dots\n",
    "$$\n",
    "\n",
    "\n",
    "The conjecture is that, starting from any positive integer $a$, the sequence will eventually reach the cycle $ 4 \\to 2 \\to 1$.\n",
    "\n",
    "As $(u_n)$ is defined by recurrence and takes its values in $\\mathbb{N}$, four things can happen:\n",
    "* $(u_n)$ converges to a fixed point of $C$, this is impossible since $C$ has no fixed point (except $0$) ;\n",
    "* $(u_n)$ reaches the cycle  $4 \\to 2 \\to 1$ ;\n",
    "* $(u_n)$ reaches another cycle ;\n",
    "* $(u_n)$ converges to $+\\infty$.\n",
    "\n",
    "Of course we will not prove the conjecture but we will prove that if $(u_n)$ reaches another cycle then it has to be very large."
   ]
  },
  {
   "cell_type": "markdown",
   "metadata": {},
   "source": [
    "<a id=\"conjecture\"></a>\n",
    "### Preliminaries: Testing the conjecture"
   ]
  },
  {
   "cell_type": "markdown",
   "metadata": {},
   "source": [
    "<div markdown=1 class=\"DoIt\"> \n",
    "Use python to check that the conjecture is true up to (at least) $a=1000000$. Try to be efficient, and explain your strategy."
   ]
  },
  {
   "cell_type": "code",
   "execution_count": 8,
   "metadata": {},
   "outputs": [
    {
     "name": "stdout",
     "output_type": "stream",
     "text": [
      "Done!\n"
     ]
    }
   ],
   "source": [
    "def collatz(x):\n",
    "    while x % 2 == 0:\n",
    "        #sometimes the numbers are a power of two so we just divide until we get an odd number before calling the function again\n",
    "        x = x // 2\n",
    "    if x == 4 or x == 1: # if it reached 4 it will reach 2 and 1, and the cycle will repeat\n",
    "        return True\n",
    "    if x % 2 != 0:\n",
    "        # when you have an odd number and you multiply it by 3 and add 1 you get an even number, which will have to be divided by 2\n",
    "        # thus, we are jumping over a step slightly improving the performance\n",
    "        return collatz((3*x+1)//2)\n",
    "\n",
    "for a in range(1, 1000000):\n",
    "    if not collatz(a):\n",
    "        print(\"False\")\n",
    "print(\"Done!\")"
   ]
  },
  {
   "cell_type": "code",
   "execution_count": null,
   "metadata": {},
   "outputs": [],
   "source": [
    "  "
   ]
  },
  {
   "cell_type": "markdown",
   "metadata": {},
   "source": [
    "<a id=\"cycle\"></a>\n",
    "## A constraint for short cycles\n",
    "\n",
    "Assume that cycles different from $1\\to 4\\to 2\\to 1$ exist. Let\n",
    "$$\n",
    "x_1 \\to x_2 \\to x_3 \\dots \\to x_N \\to x_1\n",
    "$$\n",
    "be a cycle of length $N$. We want to prove that necessarily $N$ is huge. \n",
    " \n",
    "Denote by $a_1,\\dots a_p$ the even elements of the cycle and by $b_1,\\dots,b_q$ the odd elements, we have $N=p+q$. From the Preliminaries we know that if they exist each $a_i$ and each $b_i$ is larger than $m=1000000$."
   ]
  },
  {
   "cell_type": "markdown",
   "metadata": {},
   "source": [
    "S.Eliahou proved the following result:\n",
    "\n",
    "<b>Theorem (Eliahou (1993))</b>. Let $m$ be such that the $3n+1$ conjecture is true up to $m$. If there exists a cycle with $p$ even elements and $q$ odd elements then\n",
    "$$\n",
    "\\frac{\\log(3)}{\\log(2)}< \\frac{p}{q} \\leq \\frac{\\log(3+ \\tfrac{1}{m})}{\\log(2)}. \\qquad (\\star)\n",
    "$$\n",
    "\n",
    "Reference: S.Eliahou. The $3x+ 1$ problem: new lower bounds on nontrivial cycle lengths. <i>Discrete mathematics</i>, 118(1-3), 45-56 (1993)."
   ]
  },
  {
   "cell_type": "markdown",
   "metadata": {},
   "source": [
    "<div markdown=1 class=\"DoIt\"> \n",
    "\n",
    "1. Show that\n",
    "$$\n",
    "a_1\\times \\dots \\times a_p\\times b_1 \\times \\dots \\times b_q\n",
    "= C(a_1)\\times \\dots \\times C(a_p)\\times C(b_1) \\times \\dots \\times C(b_q)\n",
    "$$\n",
    "2. Compute the right-hand side in the above equation. Deduce that\n",
    "$$\n",
    "3^q < 2^p \\leq (3+ \\tfrac{1}{m})^q.\n",
    "$$\n",
    "3. Prove the Eliahou Theorem.\n",
    "\n",
    "<b>You can use the Eliahou Theorem in the sequel even if you didn't prove it.</b>\n",
    "\n"
   ]
  },
  {
   "cell_type": "markdown",
   "metadata": {},
   "source": [
    "<div markdown=1 class=\"Answers\"> \n"
   ]
  },
  {
   "cell_type": "markdown",
   "metadata": {},
   "source": [
    "### Lower bound for $N$: brute force.\n",
    "\n",
    "<div markdown=1 class=\"DoIt\">\n",
    "\n",
    "1.  Write a script which uses the Preliminaries and Equation $(\\star)$ to find a big $q_0$ such that $q\\geq q_0$. (You can use brute force.) \n",
    "2. Find a big lower bound for $N$."
   ]
  },
  {
   "cell_type": "code",
   "execution_count": null,
   "metadata": {},
   "outputs": [],
   "source": []
  },
  {
   "cell_type": "code",
   "execution_count": null,
   "metadata": {},
   "outputs": [],
   "source": []
  },
  {
   "cell_type": "markdown",
   "metadata": {},
   "source": [
    "<div markdown=1 class=\"Answers\"> \n",
    "\n"
   ]
  },
  {
   "cell_type": "markdown",
   "metadata": {},
   "source": [
    "<a id='Farey'></a>\n",
    "## Lower bound for $N$: Farey intervals"
   ]
  },
  {
   "cell_type": "markdown",
   "metadata": {},
   "source": [
    "A <i>Farey interval</i> is an interval composed by two consecutive fractions in some set $S_t$. For example, $[3/7;1/2]$ is a Farey interval since $3/7$ and $1/2$ are two consecutive numbers in $S_5$.\n",
    "\n",
    "Farey intervals have the following property: If $I=[s_1/t_1;s_2/t_2]$ is a Farey interval then every rational in $I$ has a denominator $\\geq t_1+t_2$. "
   ]
  },
  {
   "cell_type": "markdown",
   "metadata": {},
   "source": [
    "<div markdown=1 class=\"DoIt\"> <b>(Theory)</b> Prove this important property of Farey intervals:\n",
    "\n",
    "1. Let $I=[s_1/t_1;s_2/t_2]$ be a Farey interval, prove that $s_2t_1-s_1t_2=1$.\n",
    "2. <b>(More difficult)</b> Prove that every rational in $I$ has a denominator $\\geq t_1+t_2$. \n",
    "\n",
    "<b>You can use this property in the sequel even if you didn't prove it.</b>\n"
   ]
  },
  {
   "cell_type": "markdown",
   "metadata": {},
   "source": [
    "<div markdown=1 class=\"DoIt\"> \n",
    "Write a script which computes the smallest Farey interval for which we know that it contains $p/q$, using Equation $(\\star)$. Deduce a big $N_0$ such that $N\\geq N_0$."
   ]
  },
  {
   "cell_type": "code",
   "execution_count": null,
   "metadata": {},
   "outputs": [],
   "source": []
  },
  {
   "cell_type": "markdown",
   "metadata": {},
   "source": [
    "<div markdown=1 class=\"DoIt\"> \n",
    "For every $m$ such that we are able to check the conjecture up to $m$, one can find (with Farey intervals or brute force) a big $N_0(m)$ such that $N\\geq N_0(m)$. Plot $m\\mapsto N_0(m)$."
   ]
  },
  {
   "cell_type": "code",
   "execution_count": null,
   "metadata": {},
   "outputs": [],
   "source": []
  },
  {
   "cell_type": "code",
   "execution_count": null,
   "metadata": {},
   "outputs": [],
   "source": []
  }
 ],
 "metadata": {
  "kernelspec": {
   "display_name": "Python 3 (ipykernel)",
   "language": "python",
   "name": "python3"
  },
  "language_info": {
   "codemirror_mode": {
    "name": "ipython",
    "version": 3
   },
   "file_extension": ".py",
   "mimetype": "text/x-python",
   "name": "python",
   "nbconvert_exporter": "python",
   "pygments_lexer": "ipython3",
   "version": "3.12.1"
  }
 },
 "nbformat": 4,
 "nbformat_minor": 4
}
